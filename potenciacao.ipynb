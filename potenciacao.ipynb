{
  "nbformat": 4,
  "nbformat_minor": 0,
  "metadata": {
    "colab": {
      "provenance": [],
      "authorship_tag": "ABX9TyPefAhjyJniHk5Gh7YRPGuo",
      "include_colab_link": true
    },
    "kernelspec": {
      "name": "python3",
      "display_name": "Python 3"
    },
    "language_info": {
      "name": "python"
    }
  },
  "cells": [
    {
      "cell_type": "markdown",
      "metadata": {
        "id": "view-in-github",
        "colab_type": "text"
      },
      "source": [
        "<a href=\"https://colab.research.google.com/github/suhonlima/faculdadepuc/blob/main/potenciacao.ipynb\" target=\"_parent\"><img src=\"https://colab.research.google.com/assets/colab-badge.svg\" alt=\"Open In Colab\"/></a>"
      ]
    },
    {
      "cell_type": "code",
      "execution_count": 4,
      "metadata": {
        "colab": {
          "base_uri": "https://localhost:8080/"
        },
        "id": "FjwHFKCicRXj",
        "outputId": "7acd72ca-4ad8-4371-cea8-d4da0ea0a449"
      },
      "outputs": [
        {
          "output_type": "stream",
          "name": "stdout",
          "text": [
            "1000.0\n",
            "9.797958971132712\n"
          ]
        }
      ],
      "source": [
        "import math\n",
        "\n",
        "b = 10\n",
        "a = 1\n",
        "c = 1\n",
        "\n",
        "resultado = math.pow(b,2*a+c)\n",
        "print(resultado)\n",
        "\n",
        "resultado = math.sqrt(math.pow(b,2)-4*a*c)\n",
        "print(resultado)"
      ]
    }
  ]
}