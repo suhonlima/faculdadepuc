{
  "nbformat": 4,
  "nbformat_minor": 0,
  "metadata": {
    "colab": {
      "provenance": [],
      "authorship_tag": "ABX9TyOn1Thws7O+PkSO/afuwsk7",
      "include_colab_link": true
    },
    "kernelspec": {
      "name": "python3",
      "display_name": "Python 3"
    },
    "language_info": {
      "name": "python"
    }
  },
  "cells": [
    {
      "cell_type": "markdown",
      "metadata": {
        "id": "view-in-github",
        "colab_type": "text"
      },
      "source": [
        "<a href=\"https://colab.research.google.com/github/suhonlima/faculdadepuc/blob/main/funcoestrigonometricas.ipynb\" target=\"_parent\"><img src=\"https://colab.research.google.com/assets/colab-badge.svg\" alt=\"Open In Colab\"/></a>"
      ]
    },
    {
      "cell_type": "code",
      "source": [
        "import math\n",
        "\n",
        "print(math.sin(1))\n",
        "print(math.sin(90))\n",
        "print(math.sin(180))\n",
        "\n",
        "print(math.cos(1))\n",
        "print(math.cos(90))\n",
        "print(math.cos(180))\n",
        "\n"
      ],
      "metadata": {
        "colab": {
          "base_uri": "https://localhost:8080/"
        },
        "id": "0oWodvjBhQaO",
        "outputId": "bbb43ffc-3478-423d-a0a5-9fb85fa54bbe"
      },
      "execution_count": 9,
      "outputs": [
        {
          "output_type": "stream",
          "name": "stdout",
          "text": [
            "0.8414709848078965\n",
            "0.8939966636005579\n",
            "-0.8011526357338304\n",
            "0.5403023058681398\n",
            "-0.4480736161291701\n",
            "-0.5984600690578581\n"
          ]
        }
      ]
    }
  ]
}