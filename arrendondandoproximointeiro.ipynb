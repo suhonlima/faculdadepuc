{
  "nbformat": 4,
  "nbformat_minor": 0,
  "metadata": {
    "colab": {
      "provenance": [],
      "authorship_tag": "ABX9TyNQS1jN4VyvCP/CKoMAE+Ot",
      "include_colab_link": true
    },
    "kernelspec": {
      "name": "python3",
      "display_name": "Python 3"
    },
    "language_info": {
      "name": "python"
    }
  },
  "cells": [
    {
      "cell_type": "markdown",
      "metadata": {
        "id": "view-in-github",
        "colab_type": "text"
      },
      "source": [
        "<a href=\"https://colab.research.google.com/github/suhonlima/faculdadepuc/blob/main/arrendondandoproximointeiro.ipynb\" target=\"_parent\"><img src=\"https://colab.research.google.com/assets/colab-badge.svg\" alt=\"Open In Colab\"/></a>"
      ]
    },
    {
      "cell_type": "code",
      "source": [
        "import math\n",
        "\n",
        "print(math.ceil(9.1))\n",
        "print(math.ceil(9.8))\n",
        "print(math.ceil(9.5))\n",
        "\n",
        "print(math.trunc(9.1))\n",
        "print(math.trunc(9.8))\n",
        "print(math.trunc(9.5))\n"
      ],
      "metadata": {
        "id": "SfzzcYFkhGEG",
        "outputId": "8e7c9acc-3381-48f8-ebaf-faa97da01217",
        "colab": {
          "base_uri": "https://localhost:8080/"
        }
      },
      "execution_count": 8,
      "outputs": [
        {
          "output_type": "stream",
          "name": "stdout",
          "text": [
            "10\n",
            "10\n",
            "10\n",
            "9\n",
            "9\n",
            "9\n"
          ]
        }
      ]
    }
  ]
}