{
  "nbformat": 4,
  "nbformat_minor": 0,
  "metadata": {
    "colab": {
      "provenance": [],
      "authorship_tag": "ABX9TyO4/xoI2NXMYtecnQXAGSQ/",
      "include_colab_link": true
    },
    "kernelspec": {
      "name": "python3",
      "display_name": "Python 3"
    },
    "language_info": {
      "name": "python"
    }
  },
  "cells": [
    {
      "cell_type": "markdown",
      "metadata": {
        "id": "view-in-github",
        "colab_type": "text"
      },
      "source": [
        "<a href=\"https://colab.research.google.com/github/suhonlima/faculdadepuc/blob/main/raizquadrada.ipynb\" target=\"_parent\"><img src=\"https://colab.research.google.com/assets/colab-badge.svg\" alt=\"Open In Colab\"/></a>"
      ]
    },
    {
      "cell_type": "code",
      "execution_count": 1,
      "metadata": {
        "colab": {
          "base_uri": "https://localhost:8080/"
        },
        "id": "fFr90yD4TF6H",
        "outputId": "27a9b262-4d72-4c69-c530-8b93534ba5cd"
      },
      "outputs": [
        {
          "output_type": "stream",
          "name": "stdout",
          "text": [
            "4.47213595499958\n",
            "9.797958971132712\n"
          ]
        }
      ],
      "source": [
        "import math\n",
        "x = 10\n",
        "resultado = math.sqrt(2*x)\n",
        "print(resultado)\n",
        "\n",
        "b = 10\n",
        "a = 1\n",
        "c = 1\n",
        "resultado = math.sqrt(b*b-4*a*c)\n",
        "print(resultado)"
      ]
    }
  ]
}